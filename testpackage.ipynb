{
 "cells": [
  {
   "attachments": {},
   "cell_type": "markdown",
   "metadata": {},
   "source": [
    "## How to use the atlasofsmoothspaces package"
   ]
  },
  {
   "attachments": {},
   "cell_type": "markdown",
   "metadata": {},
   "source": [
    "First import"
   ]
  },
  {
   "cell_type": "code",
   "execution_count": 1,
   "metadata": {},
   "outputs": [],
   "source": [
    "import atlasofsmoothspaces as ass"
   ]
  },
  {
   "attachments": {},
   "cell_type": "markdown",
   "metadata": {},
   "source": [
    "Check the possible smoothness Types"
   ]
  },
  {
   "cell_type": "code",
   "execution_count": 2,
   "metadata": {},
   "outputs": [
    {
     "data": {
      "text/plain": [
       "['GYRO_LEFT',\n",
       " 'GYRO_RIGHT',\n",
       " 'VEL_LEFT',\n",
       " 'VEL_RIGHT',\n",
       " 'VEL_AVG',\n",
       " 'ACCEL_LEFT',\n",
       " 'ACCEL_RIGHT']"
      ]
     },
     "execution_count": 2,
     "metadata": {},
     "output_type": "execute_result"
    }
   ],
   "source": [
    "ass.Smoothness.SMOOTHNESS_TYPES"
   ]
  },
  {
   "attachments": {},
   "cell_type": "markdown",
   "metadata": {},
   "source": [
    "Instantiate an instance with the desired smoothness types"
   ]
  },
  {
   "cell_type": "code",
   "execution_count": 3,
   "metadata": {},
   "outputs": [],
   "source": [
    "CACHE_LENGTH = 5\n",
    "NUMBER_OF_DERIVATIVES = 3\n",
    "EXPONENTIAL_WEIGHTED_AVERAGE_ALPHA = 0.01\n",
    "sm = ass.Smoothness(\n",
    "    [\"GYRO_LEFT\", \"GYRO_RIGHT\"], \n",
    "    CACHE_LENGTH, \n",
    "    NUMBER_OF_DERIVATIVES, \n",
    "    EXPONENTIAL_WEIGHTED_AVERAGE_ALPHA)"
   ]
  },
  {
   "attachments": {},
   "cell_type": "markdown",
   "metadata": {},
   "source": [
    "Smoothness types can also be added and removed"
   ]
  },
  {
   "cell_type": "code",
   "execution_count": 4,
   "metadata": {},
   "outputs": [],
   "source": [
    "sm.initSmoothnessType(\"VEL_AVG\",CACHE_LENGTH, NUMBER_OF_DERIVATIVES, EXPONENTIAL_WEIGHTED_AVERAGE_ALPHA)\n",
    "sm.removeSmoothnessType(\"VEL_AVG\")"
   ]
  },
  {
   "attachments": {},
   "cell_type": "markdown",
   "metadata": {},
   "source": [
    "Check the current channels"
   ]
  },
  {
   "cell_type": "code",
   "execution_count": 4,
   "metadata": {},
   "outputs": [
    {
     "data": {
      "text/plain": [
       "{'CC16_1': 'gyro x left',\n",
       " 'CC16_2': 'gyro x right',\n",
       " 'CC17_1': 'gyro y left',\n",
       " 'CC17_2': 'gyro y right',\n",
       " 'CC18_1': 'gyro z left',\n",
       " 'CC18_2': 'gyro z right',\n",
       " 'CC19_1': 'accel x left',\n",
       " 'CC19_2': 'accel x right',\n",
       " 'CC20_1': 'accel y left',\n",
       " 'CC20_2': 'accel y right',\n",
       " 'CC21_1': 'accel z left',\n",
       " 'CC21_2': 'accel z right',\n",
       " 'CC22_1': 'vel left',\n",
       " 'CC22_2': 'vel right'}"
      ]
     },
     "execution_count": 4,
     "metadata": {},
     "output_type": "execute_result"
    }
   ],
   "source": [
    "ass.Smoothness.CHANNELS"
   ]
  },
  {
   "attachments": {},
   "cell_type": "markdown",
   "metadata": {},
   "source": [
    "you need to feed it with new data using the following format (best is to use all the channel data)\n",
    "\n",
    "Make sure that all the smoothness types will be supplied with data. In the below example we would have to add the velocity channels to cover also the VEL_LEFT and VEL_RIGHT smoothness types."
   ]
  },
  {
   "cell_type": "code",
   "execution_count": 5,
   "metadata": {},
   "outputs": [],
   "source": [
    "import random \n",
    "sm.addNewValues({\n",
    "    'CC16_1': random.randint(0,ass.MIDI_MAX),\n",
    "    'CC17_1': random.randint(0,ass.MIDI_MAX),\n",
    "    'CC18_1': random.randint(0,ass.MIDI_MAX),\n",
    "    'CC16_2': random.randint(0,ass.MIDI_MAX),\n",
    "    'CC17_2': random.randint(0,ass.MIDI_MAX),\n",
    "    'CC18_2': random.randint(0,ass.MIDI_MAX),\n",
    "})"
   ]
  },
  {
   "attachments": {},
   "cell_type": "markdown",
   "metadata": {},
   "source": [
    "You can also get the aggregated smoothness value as a return value"
   ]
  },
  {
   "cell_type": "code",
   "execution_count": 38,
   "metadata": {},
   "outputs": [
    {
     "data": {
      "text/plain": [
       "{'GYRO_LEFT': {'raw': 3.2472134467134245e-07},\n",
       " 'GYRO_RIGHT': {'raw': 3.2472134467134245e-07}}"
      ]
     },
     "execution_count": 38,
     "metadata": {},
     "output_type": "execute_result"
    }
   ],
   "source": [
    "sm.addNewValues({\n",
    "    'CC16_1': random.randint(0,ass.MIDI_MAX),\n",
    "    'CC17_1': random.randint(0,ass.MIDI_MAX),\n",
    "    'CC18_1': random.randint(0,ass.MIDI_MAX),\n",
    "    'CC16_2': random.randint(0,ass.MIDI_MAX),\n",
    "    'CC17_2': random.randint(0,ass.MIDI_MAX),\n",
    "    'CC18_2': random.randint(0,ass.MIDI_MAX)\n",
    "},\n",
    "returnSmoothness=True)"
   ]
  },
  {
   "attachments": {},
   "cell_type": "markdown",
   "metadata": {},
   "source": [
    "but you can at any time also query the smoothness of each smoothness type"
   ]
  },
  {
   "cell_type": "code",
   "execution_count": 39,
   "metadata": {},
   "outputs": [
    {
     "data": {
      "text/plain": [
       "{'GYRO_LEFT': {'raw': 3.2472134467134245e-07},\n",
       " 'GYRO_RIGHT': {'raw': 3.2472134467134245e-07}}"
      ]
     },
     "execution_count": 39,
     "metadata": {},
     "output_type": "execute_result"
    }
   ],
   "source": [
    "sm.getSmoothnessMeasure()"
   ]
  },
  {
   "attachments": {},
   "cell_type": "markdown",
   "metadata": {},
   "source": [
    "### Calibrate\n",
    "\n",
    "Before you calibrate, repeatedly feed it a few values (using the function above) so that it can find its equilibrium easier\n",
    "\n",
    "\n",
    "for instance in my experiments with random numbers the gyro left is always between 5*10**(-7) and 5*10**(-6)"
   ]
  },
  {
   "cell_type": "code",
   "execution_count": 64,
   "metadata": {},
   "outputs": [],
   "source": [
    "sm.calibrateSmoothness(\n",
    "    [\n",
    "        \"GYRO_LEFT\",\n",
    "        \"GYRO_RIGHT\"\n",
    "    ],\n",
    "    [\n",
    "        [2.5*10**(-7), 4*10**(-7)],\n",
    "        [2.5*10**(-7), 4*10**(-7)]\n",
    "    ])"
   ]
  },
  {
   "attachments": {},
   "cell_type": "markdown",
   "metadata": {},
   "source": [
    "Now when you add numbers you get the calibrated result between 0 and 127"
   ]
  },
  {
   "cell_type": "code",
   "execution_count": 68,
   "metadata": {},
   "outputs": [
    {
     "data": {
      "text/plain": [
       "{'GYRO_LEFT': {'raw': 2.6396162665965455e-07,\n",
       "  'calibratedSignal': 126.99299593082323},\n",
       " 'GYRO_RIGHT': {'raw': 2.6396162665965455e-07,\n",
       "  'calibratedSignal': 126.99299593082323}}"
      ]
     },
     "execution_count": 68,
     "metadata": {},
     "output_type": "execute_result"
    }
   ],
   "source": [
    "\n",
    "sm.addNewValues({\n",
    "    'CC16_1': random.randint(0,ass.MIDI_MAX),\n",
    "    'CC17_1': random.randint(0,ass.MIDI_MAX),\n",
    "    'CC18_1': random.randint(0,ass.MIDI_MAX),\n",
    "    'CC16_2': random.randint(0,ass.MIDI_MAX),\n",
    "    'CC17_2': random.randint(0,ass.MIDI_MAX),\n",
    "    'CC18_2': random.randint(0,ass.MIDI_MAX)\n",
    "},\n",
    "returnSmoothness=True)"
   ]
  }
 ],
 "metadata": {
  "kernelspec": {
   "display_name": ".venv",
   "language": "python",
   "name": "python3"
  },
  "language_info": {
   "codemirror_mode": {
    "name": "ipython",
    "version": 3
   },
   "file_extension": ".py",
   "mimetype": "text/x-python",
   "name": "python",
   "nbconvert_exporter": "python",
   "pygments_lexer": "ipython3",
   "version": "3.9.15"
  },
  "orig_nbformat": 4
 },
 "nbformat": 4,
 "nbformat_minor": 2
}

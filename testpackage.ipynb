{
 "cells": [
  {
   "attachments": {},
   "cell_type": "markdown",
   "metadata": {},
   "source": [
    "## How to use the atlasofsmoothspaces package"
   ]
  },
  {
   "attachments": {},
   "cell_type": "markdown",
   "metadata": {},
   "source": [
    "First import"
   ]
  },
  {
   "cell_type": "code",
   "execution_count": 1,
   "metadata": {},
   "outputs": [],
   "source": [
    "# import atlasofsmoothspaces as ass\n",
    "import main as ass"
   ]
  },
  {
   "attachments": {},
   "cell_type": "markdown",
   "metadata": {},
   "source": [
    "Instantiate an instance with the desired smoothness types"
   ]
  },
  {
   "cell_type": "code",
   "execution_count": 24,
   "metadata": {},
   "outputs": [],
   "source": [
    "\n",
    "CACHE_LENGTH = 5\n",
    "NUMBER_OF_DERIVATIVES = 3\n",
    "EXPONENTIAL_WEIGHTED_AVERAGE_ALPHA = 0.01\n",
    "\n",
    "calibrationConfig = dict(\n",
    "    smoothnessCacheLength = 3,\n",
    "    autocalibrate = True,\n",
    "    calibrationInterval = 4,\n",
    "    calibrationStandardDevs = 2.5\n",
    ")\n",
    "\n",
    "sm = ass.Smoothness(\n",
    "    [\"GYRO_LEFT\", \"GYRO_RIGHT\"], \n",
    "    cacheLengths = CACHE_LENGTH,\n",
    "    derivativeDegrees = NUMBER_OF_DERIVATIVES,\n",
    "    alphas = EXPONENTIAL_WEIGHTED_AVERAGE_ALPHA,\n",
    "    **calibrationConfig)"
   ]
  },
  {
   "attachments": {},
   "cell_type": "markdown",
   "metadata": {},
   "source": [
    "Smoothness types can also be added and removed"
   ]
  },
  {
   "attachments": {},
   "cell_type": "markdown",
   "metadata": {},
   "source": [
    "First added"
   ]
  },
  {
   "cell_type": "code",
   "execution_count": 25,
   "metadata": {},
   "outputs": [],
   "source": [
    "## EITHER existing pre-configured ones \n",
    "sm.initSmoothnessType(\"VEL_AVG\",CACHE_LENGTH, NUMBER_OF_DERIVATIVES, EXPONENTIAL_WEIGHTED_AVERAGE_ALPHA, calibrationConfig=calibrationConfig)\n",
    "\n",
    "\n",
    "## OR new customized ones\n",
    "# First create the smoothness type\n",
    "sm.addSmoothnessType(\n",
    "    \"TOTAL_ACCELERATION\",\n",
    "    lambda data : sm.smoothnessConversionTemplate(\n",
    "        data=data, \n",
    "        channels=[\"CC{n}_1\".format(n=m) for m in [19,20,21]], \n",
    "        aggregationType=\"euclidean\"))\n",
    "\n",
    "# and then initialized it with a cache and derivatives\n",
    "sm.initSmoothnessType(\n",
    "    smoothnessType=\"TOTAL_ACCELERATION\", \n",
    "    cacheLength=4, \n",
    "    derivativeDegree=3,\n",
    "    alpha=0.01,\n",
    "    calibrationConfig=calibrationConfig)\n",
    "\n",
    "# btw it can also be done in one call with  sm.addAndInitSmoothnessType(...)\n"
   ]
  },
  {
   "attachments": {},
   "cell_type": "markdown",
   "metadata": {},
   "source": [
    "check"
   ]
  },
  {
   "cell_type": "code",
   "execution_count": 26,
   "metadata": {},
   "outputs": [
    {
     "data": {
      "text/plain": [
       "['GYRO_LEFT', 'GYRO_RIGHT', 'VEL_AVG', 'TOTAL_ACCELERATION']"
      ]
     },
     "execution_count": 26,
     "metadata": {},
     "output_type": "execute_result"
    }
   ],
   "source": [
    "sm.smoothnessTypes"
   ]
  },
  {
   "attachments": {},
   "cell_type": "markdown",
   "metadata": {},
   "source": [
    "Or removed"
   ]
  },
  {
   "cell_type": "code",
   "execution_count": 27,
   "metadata": {},
   "outputs": [],
   "source": [
    "sm.removeSmoothnessType(\"VEL_AVG\")"
   ]
  },
  {
   "cell_type": "code",
   "execution_count": 28,
   "metadata": {},
   "outputs": [
    {
     "data": {
      "text/plain": [
       "dict_keys(['GYRO_LEFT', 'GYRO_RIGHT', 'TOTAL_ACCELERATION'])"
      ]
     },
     "execution_count": 28,
     "metadata": {},
     "output_type": "execute_result"
    }
   ],
   "source": [
    "sm.data.keys()"
   ]
  },
  {
   "attachments": {},
   "cell_type": "markdown",
   "metadata": {},
   "source": [
    "Channels can be added and removed, too"
   ]
  },
  {
   "cell_type": "code",
   "execution_count": 29,
   "metadata": {},
   "outputs": [],
   "source": [
    "sm.addChannel(\"CC23_1\", \"gyro xz\")\n",
    "sm.addChannel(\"CC23_2\", \"gyro xzy\")\n",
    "sm.removeChannel(\"CC23_2\")"
   ]
  },
  {
   "attachments": {},
   "cell_type": "markdown",
   "metadata": {},
   "source": [
    "check"
   ]
  },
  {
   "cell_type": "code",
   "execution_count": 30,
   "metadata": {},
   "outputs": [
    {
     "data": {
      "text/plain": [
       "{'CC16_1': 'gyro x left',\n",
       " 'CC16_2': 'gyro x right',\n",
       " 'CC17_1': 'gyro y left',\n",
       " 'CC17_2': 'gyro y right',\n",
       " 'CC18_1': 'gyro z left',\n",
       " 'CC18_2': 'gyro z right',\n",
       " 'CC19_1': 'accel x left',\n",
       " 'CC19_2': 'accel x right',\n",
       " 'CC20_1': 'accel y left',\n",
       " 'CC20_2': 'accel y right',\n",
       " 'CC21_1': 'accel z left',\n",
       " 'CC21_2': 'accel z right',\n",
       " 'CC22_1': 'vel left',\n",
       " 'CC22_2': 'vel right',\n",
       " 'CC23_1': 'gyro xz'}"
      ]
     },
     "execution_count": 30,
     "metadata": {},
     "output_type": "execute_result"
    }
   ],
   "source": [
    "sm.channels"
   ]
  },
  {
   "attachments": {},
   "cell_type": "markdown",
   "metadata": {},
   "source": [
    "you need to feed it with new data using the following format (best is to use all the channel data)\n",
    "\n",
    "Make sure that all the smoothness types will be supplied with data. In the below example we would have to add the velocity channels to cover also the VEL_LEFT and VEL_RIGHT smoothness types."
   ]
  },
  {
   "attachments": {},
   "cell_type": "markdown",
   "metadata": {},
   "source": [
    "You can also get the aggregated smoothness value as a return value  (optional)"
   ]
  },
  {
   "cell_type": "code",
   "execution_count": 51,
   "metadata": {},
   "outputs": [
    {
     "data": {
      "text/plain": [
       "{'GYRO_LEFT': {'raw': 2.2743578893015815e-05,\n",
       "  'calibratedSignal': 49.98735038808885},\n",
       " 'GYRO_RIGHT': {'raw': 1.118803613519452e-05,\n",
       "  'calibratedSignal': 12.726443286680297},\n",
       " 'TOTAL_ACCELERATION': {'raw': 0.0008603644330756963,\n",
       "  'calibratedSignal': 126.99999563162378}}"
      ]
     },
     "execution_count": 51,
     "metadata": {},
     "output_type": "execute_result"
    }
   ],
   "source": [
    "import random\n",
    "sm.addNewValues({\n",
    "    'CC16_1': random.randint(0,ass.MIDI_MAX),\n",
    "    'CC17_1': random.randint(0,ass.MIDI_MAX),\n",
    "    'CC18_1': random.randint(0,ass.MIDI_MAX),\n",
    "    'CC16_2': random.randint(0,ass.MIDI_MAX),\n",
    "    'CC17_2': random.randint(0,ass.MIDI_MAX),\n",
    "    'CC18_2': random.randint(0,ass.MIDI_MAX),\n",
    "    'CC19_1': random.randint(0,ass.MIDI_MAX),\n",
    "    'CC20_1': random.randint(0,ass.MIDI_MAX),\n",
    "    'CC21_1': random.randint(0,ass.MIDI_MAX),\n",
    "},\n",
    "returnSmoothness=True)"
   ]
  },
  {
   "attachments": {},
   "cell_type": "markdown",
   "metadata": {},
   "source": [
    "execute the above code a few times. when the returnFlag is enabled and autocalibration also, then you'll realize that after a few executions the calibrated signal is also shown. It works quite well. It's within the range of 0 to 127. You can also disable the return flag in which case you won't get any feedback ..."
   ]
  },
  {
   "attachments": {},
   "cell_type": "markdown",
   "metadata": {},
   "source": [
    "... but you can at any time also query the smoothness of each smoothness type"
   ]
  },
  {
   "cell_type": "code",
   "execution_count": 47,
   "metadata": {},
   "outputs": [
    {
     "data": {
      "text/plain": [
       "{'GYRO_LEFT': {'raw': 3.862251861610559e-06},\n",
       " 'GYRO_RIGHT': {'raw': 3.127720486684677e-06},\n",
       " 'TOTAL_ACCELERATION': {'raw': 0.0003136696025079371}}"
      ]
     },
     "execution_count": 47,
     "metadata": {},
     "output_type": "execute_result"
    }
   ],
   "source": [
    "sm.getSmoothnessMeasure()"
   ]
  },
  {
   "attachments": {},
   "cell_type": "markdown",
   "metadata": {},
   "source": [
    "### Calibrate"
   ]
  },
  {
   "attachments": {},
   "cell_type": "markdown",
   "metadata": {},
   "source": [
    "If autocalibrate is switched on or was switched on by default. You can change the calibration by changing the sensitivity. Play around with it a bit. A higher sensitivity makes the values jump from 0 to 127. A lower sensitivity (i.e. higher insensitivity) makes the values revolve around similar values"
   ]
  },
  {
   "cell_type": "code",
   "execution_count": 93,
   "metadata": {},
   "outputs": [],
   "source": [
    "sm.updateInsensitivityForAutocalibration(newInsensitivities=100) ## maybe try 100 ( very insensitive ) or 0.1 ( very sensitive ) "
   ]
  },
  {
   "cell_type": "code",
   "execution_count": 94,
   "metadata": {},
   "outputs": [
    {
     "data": {
      "text/plain": [
       "{'raw': 1.3860263361197518e-05,\n",
       " 'calibrationCount': 56,\n",
       " 'calibrationStandardDevs': 100,\n",
       " 'calibration': {'XMIN': 1.6716356190804567e-05,\n",
       "  'XMAX': 2.303046613329722e-05,\n",
       "  'YMIN': 0,\n",
       "  'YMAX': 127,\n",
       "  'BETA': 0.02},\n",
       " 'cache': array([2.48765777e-05, 1.69021562e-05, 1.38602634e-05]),\n",
       " 'calibratedSignal': 126.99976361812817,\n",
       " 'isCalibrated': True}"
      ]
     },
     "execution_count": 94,
     "metadata": {},
     "output_type": "execute_result"
    }
   ],
   "source": [
    "sm.data[\"GYRO_LEFT\"].smoothnessMeasures[\"overall\"]"
   ]
  },
  {
   "cell_type": "code",
   "execution_count": 109,
   "metadata": {},
   "outputs": [
    {
     "data": {
      "text/plain": [
       "{'GYRO_LEFT': {'raw': 2.295643152108795e-05,\n",
       "  'calibratedSignal': 3.1743166317020055},\n",
       " 'GYRO_RIGHT': {'raw': 4.284924201914617e-06,\n",
       "  'calibratedSignal': 2.605092658812452},\n",
       " 'TOTAL_ACCELERATION': {'raw': 0.0024215079977728342,\n",
       "  'calibratedSignal': 2.765550967438672}}"
      ]
     },
     "execution_count": 109,
     "metadata": {},
     "output_type": "execute_result"
    }
   ],
   "source": [
    "sm.addNewValues({\n",
    "    'CC16_1': random.randint(0,ass.MIDI_MAX),\n",
    "    'CC17_1': random.randint(0,ass.MIDI_MAX),\n",
    "    'CC18_1': random.randint(0,ass.MIDI_MAX),\n",
    "    'CC16_2': random.randint(0,ass.MIDI_MAX),\n",
    "    'CC17_2': random.randint(0,ass.MIDI_MAX),\n",
    "    'CC18_2': random.randint(0,ass.MIDI_MAX),\n",
    "    'CC19_1': random.randint(0,ass.MIDI_MAX),\n",
    "    'CC20_1': random.randint(0,ass.MIDI_MAX),\n",
    "    'CC21_1': random.randint(0,ass.MIDI_MAX),\n",
    "},\n",
    "returnSmoothness=True)"
   ]
  },
  {
   "attachments": {},
   "cell_type": "markdown",
   "metadata": {},
   "source": [
    "If autocalibrate is switched off. Then before you manually calibrate, you first repeatedly feed it a few values (using the function above) so that it can find its equilibrium easier.\n",
    "\n",
    "for instance in my experiments with random numbers the gyro left is always between 5*10**(-7) and 5*10**(-6)"
   ]
  },
  {
   "cell_type": "code",
   "execution_count": 111,
   "metadata": {},
   "outputs": [],
   "source": [
    "## optional in case you have it switched on:\n",
    "sm.stopAutocalibration()\n",
    "\n",
    "## switch on calibration manually\n",
    "sm.calibrateSmoothness(\n",
    "    [\n",
    "        \"GYRO_LEFT\",\n",
    "        \"GYRO_RIGHT\",\n",
    "        \"TOTAL_ACCELERATION\"\n",
    "    ],\n",
    "    [\n",
    "        [2.5*10**(-6), 4*10**(-5)],\n",
    "        [2.5*10**(-6), 4*10**(-5)],\n",
    "        [2.5*10**(-6), 4*10**(-5)]\n",
    "    ])"
   ]
  },
  {
   "attachments": {},
   "cell_type": "markdown",
   "metadata": {},
   "source": [
    "Now when you add numbers you get the calibrated result between 0 and 127"
   ]
  },
  {
   "cell_type": "code",
   "execution_count": 113,
   "metadata": {},
   "outputs": [
    {
     "data": {
      "text/plain": [
       "{'GYRO_LEFT': {'raw': 2.2739483833127158e-05,\n",
       "  'calibratedSignal': 88.38528894607555},\n",
       " 'GYRO_RIGHT': {'raw': 4.254414236078145e-06,\n",
       "  'calibratedSignal': 5.973035398971157},\n",
       " 'TOTAL_ACCELERATION': {'raw': 0.002386607877044301,\n",
       "  'calibratedSignal': 127.0}}"
      ]
     },
     "execution_count": 113,
     "metadata": {},
     "output_type": "execute_result"
    }
   ],
   "source": [
    "\n",
    "sm.addNewValues({\n",
    "    'CC16_1': random.randint(0,ass.MIDI_MAX),\n",
    "    'CC17_1': random.randint(0,ass.MIDI_MAX),\n",
    "    'CC18_1': random.randint(0,ass.MIDI_MAX),\n",
    "    'CC16_2': random.randint(0,ass.MIDI_MAX),\n",
    "    'CC17_2': random.randint(0,ass.MIDI_MAX),\n",
    "    'CC18_2': random.randint(0,ass.MIDI_MAX),\n",
    "    'CC19_1': random.randint(0,ass.MIDI_MAX),\n",
    "    'CC20_1': random.randint(0,ass.MIDI_MAX),\n",
    "    'CC21_1': random.randint(0,ass.MIDI_MAX)\n",
    "},\n",
    "returnSmoothness=True)"
   ]
  }
 ],
 "metadata": {
  "kernelspec": {
   "display_name": ".venv",
   "language": "python",
   "name": "python3"
  },
  "language_info": {
   "codemirror_mode": {
    "name": "ipython",
    "version": 3
   },
   "file_extension": ".py",
   "mimetype": "text/x-python",
   "name": "python",
   "nbconvert_exporter": "python",
   "pygments_lexer": "ipython3",
   "version": "3.9.15"
  },
  "orig_nbformat": 4
 },
 "nbformat": 4,
 "nbformat_minor": 2
}
